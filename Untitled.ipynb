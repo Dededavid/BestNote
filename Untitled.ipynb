{
 "cells": [
  {
   "cell_type": "code",
   "execution_count": 1,
   "metadata": {},
   "outputs": [],
   "source": [
    "import sys\n",
    "import spotipy\n",
    "import spotipy.util as util\n",
    "import os\n",
    "from dotenv import load_dotenv\n",
    "from diccionario import dicc\n",
    "#from funciones import me_dicc\n",
    "import json"
   ]
  },
  {
   "cell_type": "code",
   "execution_count": 2,
   "metadata": {},
   "outputs": [
    {
     "data": {
      "text/plain": [
       "{'david921': 'david921',\n",
       " '11100265653': '11100265653',\n",
       " '11133159756': '11133159756',\n",
       " '1124413005': '1124413005',\n",
       " 'begolsu': 'begolsu'}"
      ]
     },
     "execution_count": 2,
     "metadata": {},
     "output_type": "execute_result"
    }
   ],
   "source": [
    "dicc"
   ]
  },
  {
   "cell_type": "code",
   "execution_count": 3,
   "metadata": {},
   "outputs": [],
   "source": [
    "#cargando contraseñas de la API\n",
    "load_dotenv()\n",
    "client_id = os.getenv(\"client_id\")\n",
    "client_secret = os.getenv(\"client_secret\")\n",
    "redirect_uri = os.getenv(\"redirect_uri\")"
   ]
  },
  {
   "cell_type": "code",
   "execution_count": 4,
   "metadata": {},
   "outputs": [],
   "source": [
    "#scope = 'playlist-read-private'\n",
    "scope = 'playlist-modify-public'\n",
    "username = 'david921'\n",
    "token = util.prompt_for_user_token(username,scope,client_id=client_id,client_secret=client_secret,redirect_uri=redirect_uri)\n",
    "sp = spotipy.Spotify(auth=token)"
   ]
  },
  {
   "cell_type": "code",
   "execution_count": 5,
   "metadata": {},
   "outputs": [
    {
     "name": "stdout",
     "output_type": "stream",
     "text": [
      "{'david921': {'id': ['0t5yjJfjoko4Bwf44HDrPP', '4HaXlLoEIF4N4AHBqOcQdo', '32GYCYSY3QRIShn7jJAHw4', '2XJVTK0kAi1Qr6VmR4B7kx', '37i9dQZF1DWY2kRx09S3yf', '4XHW0YtyoQ9ulf8XG56HaX', '3sbSewMy0wXaqsxmVv3wHw', '0LnXqBleqs03495fxBG7tQ', '1vMHkHU3Gx1lM8TrzEeybL', '37i9dQZF1DWYhOCyaaShf8', '7ypulf1HmsO923fQE0ZmRX', '37i9dQZF1DX2kvBlhyEkb6', '3iSMHake6x7vwCrVn8y1s5', '6pmD2yT7v05nlwawOTPYyM', '37i9dQZF1DX10zKzsJ2jva', '5GWYlm31BhP9PzI2k2q4fR', '0Jus6d01u7Ykdbp1wJ9XJY', '42acU6h2UbnpoSNWIDZR5s', '57Hs4tul9L4PcCGklHLtF3', '37i9dQZF1CyZbn9oJq85Ux', '5VJrkrbFpPBZOJ46OMcCIp', '0dM5x4eqRO4gAaPXXPYzib', '37i9dQZF1DX2A29LI7xHn1', '4zZveHJxa685kuS2IxlVOY', '37i9dQZF1DX8SfyqmSFDwe', '37i9dQZF1DX07RJCJCOYpi', '37i9dQZF1DWT6SJaitNDax', '37i9dQZF1DXcBWIGoYBM5M', '37i9dQZF1DX5y71ufjoyXC', '2Ji1riS8ZbCh4R7yRGTMVl', '4E81buFYNRzufucm6lIMb5', '0YvCwgK00m5wZTN6mtCedp', '2nxb1xhURJlbHP4Vtm1hjW', '37i9dQZF1DX661EjJOj3Tu', '1mjemYtvcRLD7xZdGHSN5J', '5cL5lZ4g2c5xYQI3h9izfU', '37i9dQZF1DWY7IeIP1cdjF', '2You0iNgCtphd5nS3a7Bmb', '7bdWxX9ebqBwBOFcXBSduo', '37i9dQZEVXbLiRSasKsNU9', '3j8wz4U9jL4fGZRgLmuN9H', '0yIBQV5J51oNw3e84aTT86', '37i9dQZF1DX4eRPd9frC1m', '7e8KoATTK8ZWrxwwFOvpwJ', '37i9dQZF1DWUVpAXiEPK8P', '0xVV7IN8ogKY1qxyH5YLFd', '7sHipDk2Q3KRZcbPrU0GsJ', '2VY71rgPjrF7iVdgWawXuL', '5AaFOOiHyq423F9cjnzYT5', '6p8R1bVK28HoHNRkIuwNvj']}}\n",
      "{'david921': {'id': ['0t5yjJfjoko4Bwf44HDrPP', '4HaXlLoEIF4N4AHBqOcQdo', '32GYCYSY3QRIShn7jJAHw4', '2XJVTK0kAi1Qr6VmR4B7kx', '37i9dQZF1DWY2kRx09S3yf', '4XHW0YtyoQ9ulf8XG56HaX', '3sbSewMy0wXaqsxmVv3wHw', '0LnXqBleqs03495fxBG7tQ', '1vMHkHU3Gx1lM8TrzEeybL', '37i9dQZF1DWYhOCyaaShf8', '7ypulf1HmsO923fQE0ZmRX', '37i9dQZF1DX2kvBlhyEkb6', '3iSMHake6x7vwCrVn8y1s5', '6pmD2yT7v05nlwawOTPYyM', '37i9dQZF1DX10zKzsJ2jva', '5GWYlm31BhP9PzI2k2q4fR', '0Jus6d01u7Ykdbp1wJ9XJY', '42acU6h2UbnpoSNWIDZR5s', '57Hs4tul9L4PcCGklHLtF3', '37i9dQZF1CyZbn9oJq85Ux', '5VJrkrbFpPBZOJ46OMcCIp', '0dM5x4eqRO4gAaPXXPYzib', '37i9dQZF1DX2A29LI7xHn1', '4zZveHJxa685kuS2IxlVOY', '37i9dQZF1DX8SfyqmSFDwe', '37i9dQZF1DX07RJCJCOYpi', '37i9dQZF1DWT6SJaitNDax', '37i9dQZF1DXcBWIGoYBM5M', '37i9dQZF1DX5y71ufjoyXC', '2Ji1riS8ZbCh4R7yRGTMVl', '4E81buFYNRzufucm6lIMb5', '0YvCwgK00m5wZTN6mtCedp', '2nxb1xhURJlbHP4Vtm1hjW', '37i9dQZF1DX661EjJOj3Tu', '1mjemYtvcRLD7xZdGHSN5J', '5cL5lZ4g2c5xYQI3h9izfU', '37i9dQZF1DWY7IeIP1cdjF', '2You0iNgCtphd5nS3a7Bmb', '7bdWxX9ebqBwBOFcXBSduo', '37i9dQZEVXbLiRSasKsNU9', '3j8wz4U9jL4fGZRgLmuN9H', '0yIBQV5J51oNw3e84aTT86', '37i9dQZF1DX4eRPd9frC1m', '7e8KoATTK8ZWrxwwFOvpwJ', '37i9dQZF1DWUVpAXiEPK8P', '0xVV7IN8ogKY1qxyH5YLFd', '7sHipDk2Q3KRZcbPrU0GsJ', '2VY71rgPjrF7iVdgWawXuL', '5AaFOOiHyq423F9cjnzYT5', '6p8R1bVK28HoHNRkIuwNvj']}, '11100265653': {'id': ['0BJg3H9IxjkW5N8PfVExmM', '5FR7hJnT5mGoc95Z3UXSv9', '0kuQDuhOfI2fvHuBYV6HyJ', '74mrSbiGdK1bvWwmQUKZoc', '1ucQd6OgV2cRXjBmSTMCBy', '2NCJv2YpYq2MddHPiebBEp', '49nARUc3pDvM1ntcBW3poy', '6Q3qjwieuCtIegjtanXC02']}}\n",
      "{'david921': {'id': ['0t5yjJfjoko4Bwf44HDrPP', '4HaXlLoEIF4N4AHBqOcQdo', '32GYCYSY3QRIShn7jJAHw4', '2XJVTK0kAi1Qr6VmR4B7kx', '37i9dQZF1DWY2kRx09S3yf', '4XHW0YtyoQ9ulf8XG56HaX', '3sbSewMy0wXaqsxmVv3wHw', '0LnXqBleqs03495fxBG7tQ', '1vMHkHU3Gx1lM8TrzEeybL', '37i9dQZF1DWYhOCyaaShf8', '7ypulf1HmsO923fQE0ZmRX', '37i9dQZF1DX2kvBlhyEkb6', '3iSMHake6x7vwCrVn8y1s5', '6pmD2yT7v05nlwawOTPYyM', '37i9dQZF1DX10zKzsJ2jva', '5GWYlm31BhP9PzI2k2q4fR', '0Jus6d01u7Ykdbp1wJ9XJY', '42acU6h2UbnpoSNWIDZR5s', '57Hs4tul9L4PcCGklHLtF3', '37i9dQZF1CyZbn9oJq85Ux', '5VJrkrbFpPBZOJ46OMcCIp', '0dM5x4eqRO4gAaPXXPYzib', '37i9dQZF1DX2A29LI7xHn1', '4zZveHJxa685kuS2IxlVOY', '37i9dQZF1DX8SfyqmSFDwe', '37i9dQZF1DX07RJCJCOYpi', '37i9dQZF1DWT6SJaitNDax', '37i9dQZF1DXcBWIGoYBM5M', '37i9dQZF1DX5y71ufjoyXC', '2Ji1riS8ZbCh4R7yRGTMVl', '4E81buFYNRzufucm6lIMb5', '0YvCwgK00m5wZTN6mtCedp', '2nxb1xhURJlbHP4Vtm1hjW', '37i9dQZF1DX661EjJOj3Tu', '1mjemYtvcRLD7xZdGHSN5J', '5cL5lZ4g2c5xYQI3h9izfU', '37i9dQZF1DWY7IeIP1cdjF', '2You0iNgCtphd5nS3a7Bmb', '7bdWxX9ebqBwBOFcXBSduo', '37i9dQZEVXbLiRSasKsNU9', '3j8wz4U9jL4fGZRgLmuN9H', '0yIBQV5J51oNw3e84aTT86', '37i9dQZF1DX4eRPd9frC1m', '7e8KoATTK8ZWrxwwFOvpwJ', '37i9dQZF1DWUVpAXiEPK8P', '0xVV7IN8ogKY1qxyH5YLFd', '7sHipDk2Q3KRZcbPrU0GsJ', '2VY71rgPjrF7iVdgWawXuL', '5AaFOOiHyq423F9cjnzYT5', '6p8R1bVK28HoHNRkIuwNvj']}, '11100265653': {'id': ['0BJg3H9IxjkW5N8PfVExmM', '5FR7hJnT5mGoc95Z3UXSv9', '0kuQDuhOfI2fvHuBYV6HyJ', '74mrSbiGdK1bvWwmQUKZoc', '1ucQd6OgV2cRXjBmSTMCBy', '2NCJv2YpYq2MddHPiebBEp', '49nARUc3pDvM1ntcBW3poy', '6Q3qjwieuCtIegjtanXC02']}, '11133159756': {'id': ['6TqRBgNb94K8mXElfe5Wj2', '28biSu7LHz1y0tLwb11HAP', '73voHLLML5uyQARdx50DQj', '2U836TQPqcBqFGNZfbBC9Z', '7qHW3TskPWzHsAMJJRramd', '37i9dQZF1DXdHPp93Fnfds', '0ZCZeUydZy1pN8rA7M8Awi', '1gFGGrXOh1GO5LHLxacAk7']}}\n",
      "{'david921': {'id': ['0t5yjJfjoko4Bwf44HDrPP', '4HaXlLoEIF4N4AHBqOcQdo', '32GYCYSY3QRIShn7jJAHw4', '2XJVTK0kAi1Qr6VmR4B7kx', '37i9dQZF1DWY2kRx09S3yf', '4XHW0YtyoQ9ulf8XG56HaX', '3sbSewMy0wXaqsxmVv3wHw', '0LnXqBleqs03495fxBG7tQ', '1vMHkHU3Gx1lM8TrzEeybL', '37i9dQZF1DWYhOCyaaShf8', '7ypulf1HmsO923fQE0ZmRX', '37i9dQZF1DX2kvBlhyEkb6', '3iSMHake6x7vwCrVn8y1s5', '6pmD2yT7v05nlwawOTPYyM', '37i9dQZF1DX10zKzsJ2jva', '5GWYlm31BhP9PzI2k2q4fR', '0Jus6d01u7Ykdbp1wJ9XJY', '42acU6h2UbnpoSNWIDZR5s', '57Hs4tul9L4PcCGklHLtF3', '37i9dQZF1CyZbn9oJq85Ux', '5VJrkrbFpPBZOJ46OMcCIp', '0dM5x4eqRO4gAaPXXPYzib', '37i9dQZF1DX2A29LI7xHn1', '4zZveHJxa685kuS2IxlVOY', '37i9dQZF1DX8SfyqmSFDwe', '37i9dQZF1DX07RJCJCOYpi', '37i9dQZF1DWT6SJaitNDax', '37i9dQZF1DXcBWIGoYBM5M', '37i9dQZF1DX5y71ufjoyXC', '2Ji1riS8ZbCh4R7yRGTMVl', '4E81buFYNRzufucm6lIMb5', '0YvCwgK00m5wZTN6mtCedp', '2nxb1xhURJlbHP4Vtm1hjW', '37i9dQZF1DX661EjJOj3Tu', '1mjemYtvcRLD7xZdGHSN5J', '5cL5lZ4g2c5xYQI3h9izfU', '37i9dQZF1DWY7IeIP1cdjF', '2You0iNgCtphd5nS3a7Bmb', '7bdWxX9ebqBwBOFcXBSduo', '37i9dQZEVXbLiRSasKsNU9', '3j8wz4U9jL4fGZRgLmuN9H', '0yIBQV5J51oNw3e84aTT86', '37i9dQZF1DX4eRPd9frC1m', '7e8KoATTK8ZWrxwwFOvpwJ', '37i9dQZF1DWUVpAXiEPK8P', '0xVV7IN8ogKY1qxyH5YLFd', '7sHipDk2Q3KRZcbPrU0GsJ', '2VY71rgPjrF7iVdgWawXuL', '5AaFOOiHyq423F9cjnzYT5', '6p8R1bVK28HoHNRkIuwNvj']}, '11100265653': {'id': ['0BJg3H9IxjkW5N8PfVExmM', '5FR7hJnT5mGoc95Z3UXSv9', '0kuQDuhOfI2fvHuBYV6HyJ', '74mrSbiGdK1bvWwmQUKZoc', '1ucQd6OgV2cRXjBmSTMCBy', '2NCJv2YpYq2MddHPiebBEp', '49nARUc3pDvM1ntcBW3poy', '6Q3qjwieuCtIegjtanXC02']}, '11133159756': {'id': ['6TqRBgNb94K8mXElfe5Wj2', '28biSu7LHz1y0tLwb11HAP', '73voHLLML5uyQARdx50DQj', '2U836TQPqcBqFGNZfbBC9Z', '7qHW3TskPWzHsAMJJRramd', '37i9dQZF1DXdHPp93Fnfds', '0ZCZeUydZy1pN8rA7M8Awi', '1gFGGrXOh1GO5LHLxacAk7']}, '1124413005': {'id': ['5r0s2wjbIeetrxY9e8YXsf', '1KC5CvU3K3e7ToJih20Tre', '0uA8EZVC7pZKJcWC44qF8Z', '2cIxHF4oMepse8J1bmSS4k', '6kKLtoiM6oUN1iQBfiuGug', '4H1q5i6b2rCJXmt9KOsrsb', '4Dw4VAlJPOVKD2Z3LYRowa', '1RArdca9KGUSQDDiL3dzJz', '1E53ZX1Py8G0NmES1rpqHy', '0g253qJiiS5YkfXqtCmyNS', '7fyMWbGZ0JqcAMXwiy78TL', '1NZrcwHHJfD5WGqL2PowSj', '4g8wJVW65qu1YebF84hlTq', '6ACQ8Tfn8CrqITi6jNCn9y', '49g13A57Xkvz7B4O1kSjyW', '7jmWULYmGkJX4a8THOqc3j', '6XCDPWx4opUXDQOujxOSij', '5ZHEeWly3wnwPQz4RQkfER', '7yLvtgqPbPcgkbZ9O9WkBn', '6JuumLV4272M93eQ2zW0x4', '2cwlAqDLbtgqDvOsVTZhlk', '6grf0kuJStmvhron1ilQie', '3Ws4JExwrZUw9HnaFzLfSV', '7dNtZXgiiobWByznyeYR0y', '4GXNQUiaY4tUk9YsXtogRl', '6ie25fmnHqLLOqUv4caKK2', '7qm58319Jm6nYjusJjQUe6', '6XrSegd6SikgT49eWuSZs5', '4fPdRcYK0nG6iw7GhZ7fwA', '50uMBKJLBE8MJL5bmQNHAv', '3TPtG0MApDd75Jf0D4DRwJ', '4rufXIjtOmmXl6dRC7koDJ', '26kE1VgFP6svZpv9Lru63j', '2wLoZzesOHbDrEs8oaRtHS', '0es9bK2RIdYROWlATu0nBx', '3sWhHTtSitiwS2O6K4NqBH', '3wN9TQkXZCJjlt01yqwPqO', '4firkXCAOW0wukrf3PVos6', '4Rp2SzWzRd6BcGqpL4BEG0', '3X9FuPpfrLJzAUdczeaHmu', '5Q0puKo2dpJeSmjV2wuECH', '6LGlfGwUQgLzC1183gWXRH', '6KzmuIPQXddRtVcYNpiVcG', '64a0XzAySw3oIkQXDMpMW3', '6avkRvRNun2CzcXzPfLCNj', '0SbdtS48ifqGpaXpprOWA0', '6SoEl65HGzuSbu8rnTczOF', '5auH3ImvLbyfESLm0ZgHjv', '0ZdaqNp5scKt5kaNnVbWb3', '1hH2UsALCX8vE8AGu3R1nP']}}\n",
      "{'david921': {'id': ['0t5yjJfjoko4Bwf44HDrPP', '4HaXlLoEIF4N4AHBqOcQdo', '32GYCYSY3QRIShn7jJAHw4', '2XJVTK0kAi1Qr6VmR4B7kx', '37i9dQZF1DWY2kRx09S3yf', '4XHW0YtyoQ9ulf8XG56HaX', '3sbSewMy0wXaqsxmVv3wHw', '0LnXqBleqs03495fxBG7tQ', '1vMHkHU3Gx1lM8TrzEeybL', '37i9dQZF1DWYhOCyaaShf8', '7ypulf1HmsO923fQE0ZmRX', '37i9dQZF1DX2kvBlhyEkb6', '3iSMHake6x7vwCrVn8y1s5', '6pmD2yT7v05nlwawOTPYyM', '37i9dQZF1DX10zKzsJ2jva', '5GWYlm31BhP9PzI2k2q4fR', '0Jus6d01u7Ykdbp1wJ9XJY', '42acU6h2UbnpoSNWIDZR5s', '57Hs4tul9L4PcCGklHLtF3', '37i9dQZF1CyZbn9oJq85Ux', '5VJrkrbFpPBZOJ46OMcCIp', '0dM5x4eqRO4gAaPXXPYzib', '37i9dQZF1DX2A29LI7xHn1', '4zZveHJxa685kuS2IxlVOY', '37i9dQZF1DX8SfyqmSFDwe', '37i9dQZF1DX07RJCJCOYpi', '37i9dQZF1DWT6SJaitNDax', '37i9dQZF1DXcBWIGoYBM5M', '37i9dQZF1DX5y71ufjoyXC', '2Ji1riS8ZbCh4R7yRGTMVl', '4E81buFYNRzufucm6lIMb5', '0YvCwgK00m5wZTN6mtCedp', '2nxb1xhURJlbHP4Vtm1hjW', '37i9dQZF1DX661EjJOj3Tu', '1mjemYtvcRLD7xZdGHSN5J', '5cL5lZ4g2c5xYQI3h9izfU', '37i9dQZF1DWY7IeIP1cdjF', '2You0iNgCtphd5nS3a7Bmb', '7bdWxX9ebqBwBOFcXBSduo', '37i9dQZEVXbLiRSasKsNU9', '3j8wz4U9jL4fGZRgLmuN9H', '0yIBQV5J51oNw3e84aTT86', '37i9dQZF1DX4eRPd9frC1m', '7e8KoATTK8ZWrxwwFOvpwJ', '37i9dQZF1DWUVpAXiEPK8P', '0xVV7IN8ogKY1qxyH5YLFd', '7sHipDk2Q3KRZcbPrU0GsJ', '2VY71rgPjrF7iVdgWawXuL', '5AaFOOiHyq423F9cjnzYT5', '6p8R1bVK28HoHNRkIuwNvj']}, '11100265653': {'id': ['0BJg3H9IxjkW5N8PfVExmM', '5FR7hJnT5mGoc95Z3UXSv9', '0kuQDuhOfI2fvHuBYV6HyJ', '74mrSbiGdK1bvWwmQUKZoc', '1ucQd6OgV2cRXjBmSTMCBy', '2NCJv2YpYq2MddHPiebBEp', '49nARUc3pDvM1ntcBW3poy', '6Q3qjwieuCtIegjtanXC02']}, '11133159756': {'id': ['6TqRBgNb94K8mXElfe5Wj2', '28biSu7LHz1y0tLwb11HAP', '73voHLLML5uyQARdx50DQj', '2U836TQPqcBqFGNZfbBC9Z', '7qHW3TskPWzHsAMJJRramd', '37i9dQZF1DXdHPp93Fnfds', '0ZCZeUydZy1pN8rA7M8Awi', '1gFGGrXOh1GO5LHLxacAk7']}, '1124413005': {'id': ['5r0s2wjbIeetrxY9e8YXsf', '1KC5CvU3K3e7ToJih20Tre', '0uA8EZVC7pZKJcWC44qF8Z', '2cIxHF4oMepse8J1bmSS4k', '6kKLtoiM6oUN1iQBfiuGug', '4H1q5i6b2rCJXmt9KOsrsb', '4Dw4VAlJPOVKD2Z3LYRowa', '1RArdca9KGUSQDDiL3dzJz', '1E53ZX1Py8G0NmES1rpqHy', '0g253qJiiS5YkfXqtCmyNS', '7fyMWbGZ0JqcAMXwiy78TL', '1NZrcwHHJfD5WGqL2PowSj', '4g8wJVW65qu1YebF84hlTq', '6ACQ8Tfn8CrqITi6jNCn9y', '49g13A57Xkvz7B4O1kSjyW', '7jmWULYmGkJX4a8THOqc3j', '6XCDPWx4opUXDQOujxOSij', '5ZHEeWly3wnwPQz4RQkfER', '7yLvtgqPbPcgkbZ9O9WkBn', '6JuumLV4272M93eQ2zW0x4', '2cwlAqDLbtgqDvOsVTZhlk', '6grf0kuJStmvhron1ilQie', '3Ws4JExwrZUw9HnaFzLfSV', '7dNtZXgiiobWByznyeYR0y', '4GXNQUiaY4tUk9YsXtogRl', '6ie25fmnHqLLOqUv4caKK2', '7qm58319Jm6nYjusJjQUe6', '6XrSegd6SikgT49eWuSZs5', '4fPdRcYK0nG6iw7GhZ7fwA', '50uMBKJLBE8MJL5bmQNHAv', '3TPtG0MApDd75Jf0D4DRwJ', '4rufXIjtOmmXl6dRC7koDJ', '26kE1VgFP6svZpv9Lru63j', '2wLoZzesOHbDrEs8oaRtHS', '0es9bK2RIdYROWlATu0nBx', '3sWhHTtSitiwS2O6K4NqBH', '3wN9TQkXZCJjlt01yqwPqO', '4firkXCAOW0wukrf3PVos6', '4Rp2SzWzRd6BcGqpL4BEG0', '3X9FuPpfrLJzAUdczeaHmu', '5Q0puKo2dpJeSmjV2wuECH', '6LGlfGwUQgLzC1183gWXRH', '6KzmuIPQXddRtVcYNpiVcG', '64a0XzAySw3oIkQXDMpMW3', '6avkRvRNun2CzcXzPfLCNj', '0SbdtS48ifqGpaXpprOWA0', '6SoEl65HGzuSbu8rnTczOF', '5auH3ImvLbyfESLm0ZgHjv', '0ZdaqNp5scKt5kaNnVbWb3', '1hH2UsALCX8vE8AGu3R1nP']}, 'begolsu': {'id': ['4wr0OcsVJoyUTsfot836Ko', '1luqlKEq4ylwAPo3RLIWTX', '4xo0FUM1Qggn4n4QnYeUp2', '43hb7b8Xy9DX0wXIT2UfRR', '0REnvtENWXj16whfORBUJF', '4eLf8MxRy5q6xS9x47GIEc', '7wPYdE94qp323DZcS0MtBC', '08AD6lrQhKtH72cNBO5v1M', '5rS058HcdQ6dp2GpVfCcv6', '1TIGcjwjwI6ISvmN1Mj0gz', '1hJ1HzKPfUOn0AwliKEkQU', '1RQONzuGMSy8e8ovWNPOdh', '1VAuOBkynI7oc86JnCi2qX', '5K1RAaiS7jojkIaIj3r1di', '3vV2DsH02HlDRyOoYJtaBU', '4lmwYbxVBwMvxZSP45yT3e', '17Yz7p5ErGMdbVr43coCxC', '0WT0xHF0qfhsKC5FtMi4vQ', '6fZAPy1UIm7ZDmezxmYW35', '0BAkzpLLd07CCMHvNdBwWb', '2oXaMmvZ1TvAzCaiTWTtZB', '3ztlc45rRNHgWlo3ssHkIu', '1woYzkmuTsWO7F6ywEGoTj', '0BWOE0lZEmGxMWUuIpQxbC', '1XHPfxcpBUu0hXLLS11bzs', '3Mo4As1K7r3lq4bf2m9Irk', '37i9dQZF1DX4aYNO8X5RpR', '37i9dQZF1E9FfdTsHTebGY']}}\n"
     ]
    }
   ],
   "source": [
    "data_dicc={}\n",
    "\n",
    "for key,value in dicc.items():\n",
    "    lista_datos = []\n",
    "    playlists = sp.user_playlists(key)\n",
    "    \n",
    "    for playl in playlists['items']:\n",
    "        \n",
    "        if playl['owner']['display_name'] == key or value:\n",
    "            #lista_datos.append(playl['owner']['display_name'])\n",
    "            lista_datos.append(playl['id'])\n",
    "            #lista_datos.append(playl['uri'])\n",
    "            #lista_datos.append(playl['images'])\n",
    "            #lista_datos.append(playl['name'])\n",
    "\n",
    "    data_dicc[key] = {'id':lista_datos}\n",
    "    print(data_dicc) \n",
    "    #con el siguiente formato: {nombre : {id : id_playlist}}\n",
    "    "
   ]
  },
  {
   "cell_type": "code",
   "execution_count": 6,
   "metadata": {},
   "outputs": [
    {
     "data": {
      "text/plain": [
       "{'david921': {'id': ['0t5yjJfjoko4Bwf44HDrPP',\n",
       "   '4HaXlLoEIF4N4AHBqOcQdo',\n",
       "   '32GYCYSY3QRIShn7jJAHw4',\n",
       "   '2XJVTK0kAi1Qr6VmR4B7kx',\n",
       "   '37i9dQZF1DWY2kRx09S3yf',\n",
       "   '4XHW0YtyoQ9ulf8XG56HaX',\n",
       "   '3sbSewMy0wXaqsxmVv3wHw',\n",
       "   '0LnXqBleqs03495fxBG7tQ',\n",
       "   '1vMHkHU3Gx1lM8TrzEeybL',\n",
       "   '37i9dQZF1DWYhOCyaaShf8',\n",
       "   '7ypulf1HmsO923fQE0ZmRX',\n",
       "   '37i9dQZF1DX2kvBlhyEkb6',\n",
       "   '3iSMHake6x7vwCrVn8y1s5',\n",
       "   '6pmD2yT7v05nlwawOTPYyM',\n",
       "   '37i9dQZF1DX10zKzsJ2jva',\n",
       "   '5GWYlm31BhP9PzI2k2q4fR',\n",
       "   '0Jus6d01u7Ykdbp1wJ9XJY',\n",
       "   '42acU6h2UbnpoSNWIDZR5s',\n",
       "   '57Hs4tul9L4PcCGklHLtF3',\n",
       "   '37i9dQZF1CyZbn9oJq85Ux',\n",
       "   '5VJrkrbFpPBZOJ46OMcCIp',\n",
       "   '0dM5x4eqRO4gAaPXXPYzib',\n",
       "   '37i9dQZF1DX2A29LI7xHn1',\n",
       "   '4zZveHJxa685kuS2IxlVOY',\n",
       "   '37i9dQZF1DX8SfyqmSFDwe',\n",
       "   '37i9dQZF1DX07RJCJCOYpi',\n",
       "   '37i9dQZF1DWT6SJaitNDax',\n",
       "   '37i9dQZF1DXcBWIGoYBM5M',\n",
       "   '37i9dQZF1DX5y71ufjoyXC',\n",
       "   '2Ji1riS8ZbCh4R7yRGTMVl',\n",
       "   '4E81buFYNRzufucm6lIMb5',\n",
       "   '0YvCwgK00m5wZTN6mtCedp',\n",
       "   '2nxb1xhURJlbHP4Vtm1hjW',\n",
       "   '37i9dQZF1DX661EjJOj3Tu',\n",
       "   '1mjemYtvcRLD7xZdGHSN5J',\n",
       "   '5cL5lZ4g2c5xYQI3h9izfU',\n",
       "   '37i9dQZF1DWY7IeIP1cdjF',\n",
       "   '2You0iNgCtphd5nS3a7Bmb',\n",
       "   '7bdWxX9ebqBwBOFcXBSduo',\n",
       "   '37i9dQZEVXbLiRSasKsNU9',\n",
       "   '3j8wz4U9jL4fGZRgLmuN9H',\n",
       "   '0yIBQV5J51oNw3e84aTT86',\n",
       "   '37i9dQZF1DX4eRPd9frC1m',\n",
       "   '7e8KoATTK8ZWrxwwFOvpwJ',\n",
       "   '37i9dQZF1DWUVpAXiEPK8P',\n",
       "   '0xVV7IN8ogKY1qxyH5YLFd',\n",
       "   '7sHipDk2Q3KRZcbPrU0GsJ',\n",
       "   '2VY71rgPjrF7iVdgWawXuL',\n",
       "   '5AaFOOiHyq423F9cjnzYT5',\n",
       "   '6p8R1bVK28HoHNRkIuwNvj']},\n",
       " '11100265653': {'id': ['0BJg3H9IxjkW5N8PfVExmM',\n",
       "   '5FR7hJnT5mGoc95Z3UXSv9',\n",
       "   '0kuQDuhOfI2fvHuBYV6HyJ',\n",
       "   '74mrSbiGdK1bvWwmQUKZoc',\n",
       "   '1ucQd6OgV2cRXjBmSTMCBy',\n",
       "   '2NCJv2YpYq2MddHPiebBEp',\n",
       "   '49nARUc3pDvM1ntcBW3poy',\n",
       "   '6Q3qjwieuCtIegjtanXC02']},\n",
       " '11133159756': {'id': ['6TqRBgNb94K8mXElfe5Wj2',\n",
       "   '28biSu7LHz1y0tLwb11HAP',\n",
       "   '73voHLLML5uyQARdx50DQj',\n",
       "   '2U836TQPqcBqFGNZfbBC9Z',\n",
       "   '7qHW3TskPWzHsAMJJRramd',\n",
       "   '37i9dQZF1DXdHPp93Fnfds',\n",
       "   '0ZCZeUydZy1pN8rA7M8Awi',\n",
       "   '1gFGGrXOh1GO5LHLxacAk7']},\n",
       " '1124413005': {'id': ['5r0s2wjbIeetrxY9e8YXsf',\n",
       "   '1KC5CvU3K3e7ToJih20Tre',\n",
       "   '0uA8EZVC7pZKJcWC44qF8Z',\n",
       "   '2cIxHF4oMepse8J1bmSS4k',\n",
       "   '6kKLtoiM6oUN1iQBfiuGug',\n",
       "   '4H1q5i6b2rCJXmt9KOsrsb',\n",
       "   '4Dw4VAlJPOVKD2Z3LYRowa',\n",
       "   '1RArdca9KGUSQDDiL3dzJz',\n",
       "   '1E53ZX1Py8G0NmES1rpqHy',\n",
       "   '0g253qJiiS5YkfXqtCmyNS',\n",
       "   '7fyMWbGZ0JqcAMXwiy78TL',\n",
       "   '1NZrcwHHJfD5WGqL2PowSj',\n",
       "   '4g8wJVW65qu1YebF84hlTq',\n",
       "   '6ACQ8Tfn8CrqITi6jNCn9y',\n",
       "   '49g13A57Xkvz7B4O1kSjyW',\n",
       "   '7jmWULYmGkJX4a8THOqc3j',\n",
       "   '6XCDPWx4opUXDQOujxOSij',\n",
       "   '5ZHEeWly3wnwPQz4RQkfER',\n",
       "   '7yLvtgqPbPcgkbZ9O9WkBn',\n",
       "   '6JuumLV4272M93eQ2zW0x4',\n",
       "   '2cwlAqDLbtgqDvOsVTZhlk',\n",
       "   '6grf0kuJStmvhron1ilQie',\n",
       "   '3Ws4JExwrZUw9HnaFzLfSV',\n",
       "   '7dNtZXgiiobWByznyeYR0y',\n",
       "   '4GXNQUiaY4tUk9YsXtogRl',\n",
       "   '6ie25fmnHqLLOqUv4caKK2',\n",
       "   '7qm58319Jm6nYjusJjQUe6',\n",
       "   '6XrSegd6SikgT49eWuSZs5',\n",
       "   '4fPdRcYK0nG6iw7GhZ7fwA',\n",
       "   '50uMBKJLBE8MJL5bmQNHAv',\n",
       "   '3TPtG0MApDd75Jf0D4DRwJ',\n",
       "   '4rufXIjtOmmXl6dRC7koDJ',\n",
       "   '26kE1VgFP6svZpv9Lru63j',\n",
       "   '2wLoZzesOHbDrEs8oaRtHS',\n",
       "   '0es9bK2RIdYROWlATu0nBx',\n",
       "   '3sWhHTtSitiwS2O6K4NqBH',\n",
       "   '3wN9TQkXZCJjlt01yqwPqO',\n",
       "   '4firkXCAOW0wukrf3PVos6',\n",
       "   '4Rp2SzWzRd6BcGqpL4BEG0',\n",
       "   '3X9FuPpfrLJzAUdczeaHmu',\n",
       "   '5Q0puKo2dpJeSmjV2wuECH',\n",
       "   '6LGlfGwUQgLzC1183gWXRH',\n",
       "   '6KzmuIPQXddRtVcYNpiVcG',\n",
       "   '64a0XzAySw3oIkQXDMpMW3',\n",
       "   '6avkRvRNun2CzcXzPfLCNj',\n",
       "   '0SbdtS48ifqGpaXpprOWA0',\n",
       "   '6SoEl65HGzuSbu8rnTczOF',\n",
       "   '5auH3ImvLbyfESLm0ZgHjv',\n",
       "   '0ZdaqNp5scKt5kaNnVbWb3',\n",
       "   '1hH2UsALCX8vE8AGu3R1nP']},\n",
       " 'begolsu': {'id': ['4wr0OcsVJoyUTsfot836Ko',\n",
       "   '1luqlKEq4ylwAPo3RLIWTX',\n",
       "   '4xo0FUM1Qggn4n4QnYeUp2',\n",
       "   '43hb7b8Xy9DX0wXIT2UfRR',\n",
       "   '0REnvtENWXj16whfORBUJF',\n",
       "   '4eLf8MxRy5q6xS9x47GIEc',\n",
       "   '7wPYdE94qp323DZcS0MtBC',\n",
       "   '08AD6lrQhKtH72cNBO5v1M',\n",
       "   '5rS058HcdQ6dp2GpVfCcv6',\n",
       "   '1TIGcjwjwI6ISvmN1Mj0gz',\n",
       "   '1hJ1HzKPfUOn0AwliKEkQU',\n",
       "   '1RQONzuGMSy8e8ovWNPOdh',\n",
       "   '1VAuOBkynI7oc86JnCi2qX',\n",
       "   '5K1RAaiS7jojkIaIj3r1di',\n",
       "   '3vV2DsH02HlDRyOoYJtaBU',\n",
       "   '4lmwYbxVBwMvxZSP45yT3e',\n",
       "   '17Yz7p5ErGMdbVr43coCxC',\n",
       "   '0WT0xHF0qfhsKC5FtMi4vQ',\n",
       "   '6fZAPy1UIm7ZDmezxmYW35',\n",
       "   '0BAkzpLLd07CCMHvNdBwWb',\n",
       "   '2oXaMmvZ1TvAzCaiTWTtZB',\n",
       "   '3ztlc45rRNHgWlo3ssHkIu',\n",
       "   '1woYzkmuTsWO7F6ywEGoTj',\n",
       "   '0BWOE0lZEmGxMWUuIpQxbC',\n",
       "   '1XHPfxcpBUu0hXLLS11bzs',\n",
       "   '3Mo4As1K7r3lq4bf2m9Irk',\n",
       "   '37i9dQZF1DX4aYNO8X5RpR',\n",
       "   '37i9dQZF1E9FfdTsHTebGY']}}"
      ]
     },
     "execution_count": 6,
     "metadata": {},
     "output_type": "execute_result"
    }
   ],
   "source": [
    "data_dicc"
   ]
  },
  {
   "cell_type": "code",
   "execution_count": 7,
   "metadata": {},
   "outputs": [
    {
     "data": {
      "text/plain": [
       "[('david921', '0t5yjJfjoko4Bwf44HDrPP'),\n",
       " ('david921', '4HaXlLoEIF4N4AHBqOcQdo'),\n",
       " ('david921', '32GYCYSY3QRIShn7jJAHw4'),\n",
       " ('david921', '2XJVTK0kAi1Qr6VmR4B7kx'),\n",
       " ('david921', '37i9dQZF1DWY2kRx09S3yf'),\n",
       " ('david921', '4XHW0YtyoQ9ulf8XG56HaX'),\n",
       " ('david921', '3sbSewMy0wXaqsxmVv3wHw'),\n",
       " ('david921', '0LnXqBleqs03495fxBG7tQ'),\n",
       " ('david921', '1vMHkHU3Gx1lM8TrzEeybL'),\n",
       " ('david921', '37i9dQZF1DWYhOCyaaShf8'),\n",
       " ('david921', '7ypulf1HmsO923fQE0ZmRX'),\n",
       " ('david921', '37i9dQZF1DX2kvBlhyEkb6'),\n",
       " ('david921', '3iSMHake6x7vwCrVn8y1s5'),\n",
       " ('david921', '6pmD2yT7v05nlwawOTPYyM'),\n",
       " ('david921', '37i9dQZF1DX10zKzsJ2jva'),\n",
       " ('david921', '5GWYlm31BhP9PzI2k2q4fR'),\n",
       " ('david921', '0Jus6d01u7Ykdbp1wJ9XJY'),\n",
       " ('david921', '42acU6h2UbnpoSNWIDZR5s'),\n",
       " ('david921', '57Hs4tul9L4PcCGklHLtF3'),\n",
       " ('david921', '37i9dQZF1CyZbn9oJq85Ux'),\n",
       " ('david921', '5VJrkrbFpPBZOJ46OMcCIp'),\n",
       " ('david921', '0dM5x4eqRO4gAaPXXPYzib'),\n",
       " ('david921', '37i9dQZF1DX2A29LI7xHn1'),\n",
       " ('david921', '4zZveHJxa685kuS2IxlVOY'),\n",
       " ('david921', '37i9dQZF1DX8SfyqmSFDwe'),\n",
       " ('david921', '37i9dQZF1DX07RJCJCOYpi'),\n",
       " ('david921', '37i9dQZF1DWT6SJaitNDax'),\n",
       " ('david921', '37i9dQZF1DXcBWIGoYBM5M'),\n",
       " ('david921', '37i9dQZF1DX5y71ufjoyXC'),\n",
       " ('david921', '2Ji1riS8ZbCh4R7yRGTMVl'),\n",
       " ('david921', '4E81buFYNRzufucm6lIMb5'),\n",
       " ('david921', '0YvCwgK00m5wZTN6mtCedp'),\n",
       " ('david921', '2nxb1xhURJlbHP4Vtm1hjW'),\n",
       " ('david921', '37i9dQZF1DX661EjJOj3Tu'),\n",
       " ('david921', '1mjemYtvcRLD7xZdGHSN5J'),\n",
       " ('david921', '5cL5lZ4g2c5xYQI3h9izfU'),\n",
       " ('david921', '37i9dQZF1DWY7IeIP1cdjF'),\n",
       " ('david921', '2You0iNgCtphd5nS3a7Bmb'),\n",
       " ('david921', '7bdWxX9ebqBwBOFcXBSduo'),\n",
       " ('david921', '37i9dQZEVXbLiRSasKsNU9'),\n",
       " ('david921', '3j8wz4U9jL4fGZRgLmuN9H'),\n",
       " ('david921', '0yIBQV5J51oNw3e84aTT86'),\n",
       " ('david921', '37i9dQZF1DX4eRPd9frC1m'),\n",
       " ('david921', '7e8KoATTK8ZWrxwwFOvpwJ'),\n",
       " ('david921', '37i9dQZF1DWUVpAXiEPK8P'),\n",
       " ('david921', '0xVV7IN8ogKY1qxyH5YLFd'),\n",
       " ('david921', '7sHipDk2Q3KRZcbPrU0GsJ'),\n",
       " ('david921', '2VY71rgPjrF7iVdgWawXuL'),\n",
       " ('david921', '5AaFOOiHyq423F9cjnzYT5'),\n",
       " ('david921', '6p8R1bVK28HoHNRkIuwNvj'),\n",
       " ('11100265653', '0BJg3H9IxjkW5N8PfVExmM'),\n",
       " ('11100265653', '5FR7hJnT5mGoc95Z3UXSv9'),\n",
       " ('11100265653', '0kuQDuhOfI2fvHuBYV6HyJ'),\n",
       " ('11100265653', '74mrSbiGdK1bvWwmQUKZoc'),\n",
       " ('11100265653', '1ucQd6OgV2cRXjBmSTMCBy'),\n",
       " ('11100265653', '2NCJv2YpYq2MddHPiebBEp'),\n",
       " ('11100265653', '49nARUc3pDvM1ntcBW3poy'),\n",
       " ('11100265653', '6Q3qjwieuCtIegjtanXC02'),\n",
       " ('11133159756', '6TqRBgNb94K8mXElfe5Wj2'),\n",
       " ('11133159756', '28biSu7LHz1y0tLwb11HAP'),\n",
       " ('11133159756', '73voHLLML5uyQARdx50DQj'),\n",
       " ('11133159756', '2U836TQPqcBqFGNZfbBC9Z'),\n",
       " ('11133159756', '7qHW3TskPWzHsAMJJRramd'),\n",
       " ('11133159756', '37i9dQZF1DXdHPp93Fnfds'),\n",
       " ('11133159756', '0ZCZeUydZy1pN8rA7M8Awi'),\n",
       " ('11133159756', '1gFGGrXOh1GO5LHLxacAk7'),\n",
       " ('1124413005', '5r0s2wjbIeetrxY9e8YXsf'),\n",
       " ('1124413005', '1KC5CvU3K3e7ToJih20Tre'),\n",
       " ('1124413005', '0uA8EZVC7pZKJcWC44qF8Z'),\n",
       " ('1124413005', '2cIxHF4oMepse8J1bmSS4k'),\n",
       " ('1124413005', '6kKLtoiM6oUN1iQBfiuGug'),\n",
       " ('1124413005', '4H1q5i6b2rCJXmt9KOsrsb'),\n",
       " ('1124413005', '4Dw4VAlJPOVKD2Z3LYRowa'),\n",
       " ('1124413005', '1RArdca9KGUSQDDiL3dzJz'),\n",
       " ('1124413005', '1E53ZX1Py8G0NmES1rpqHy'),\n",
       " ('1124413005', '0g253qJiiS5YkfXqtCmyNS'),\n",
       " ('1124413005', '7fyMWbGZ0JqcAMXwiy78TL'),\n",
       " ('1124413005', '1NZrcwHHJfD5WGqL2PowSj'),\n",
       " ('1124413005', '4g8wJVW65qu1YebF84hlTq'),\n",
       " ('1124413005', '6ACQ8Tfn8CrqITi6jNCn9y'),\n",
       " ('1124413005', '49g13A57Xkvz7B4O1kSjyW'),\n",
       " ('1124413005', '7jmWULYmGkJX4a8THOqc3j'),\n",
       " ('1124413005', '6XCDPWx4opUXDQOujxOSij'),\n",
       " ('1124413005', '5ZHEeWly3wnwPQz4RQkfER'),\n",
       " ('1124413005', '7yLvtgqPbPcgkbZ9O9WkBn'),\n",
       " ('1124413005', '6JuumLV4272M93eQ2zW0x4'),\n",
       " ('1124413005', '2cwlAqDLbtgqDvOsVTZhlk'),\n",
       " ('1124413005', '6grf0kuJStmvhron1ilQie'),\n",
       " ('1124413005', '3Ws4JExwrZUw9HnaFzLfSV'),\n",
       " ('1124413005', '7dNtZXgiiobWByznyeYR0y'),\n",
       " ('1124413005', '4GXNQUiaY4tUk9YsXtogRl'),\n",
       " ('1124413005', '6ie25fmnHqLLOqUv4caKK2'),\n",
       " ('1124413005', '7qm58319Jm6nYjusJjQUe6'),\n",
       " ('1124413005', '6XrSegd6SikgT49eWuSZs5'),\n",
       " ('1124413005', '4fPdRcYK0nG6iw7GhZ7fwA'),\n",
       " ('1124413005', '50uMBKJLBE8MJL5bmQNHAv'),\n",
       " ('1124413005', '3TPtG0MApDd75Jf0D4DRwJ'),\n",
       " ('1124413005', '4rufXIjtOmmXl6dRC7koDJ'),\n",
       " ('1124413005', '26kE1VgFP6svZpv9Lru63j'),\n",
       " ('1124413005', '2wLoZzesOHbDrEs8oaRtHS'),\n",
       " ('1124413005', '0es9bK2RIdYROWlATu0nBx'),\n",
       " ('1124413005', '3sWhHTtSitiwS2O6K4NqBH'),\n",
       " ('1124413005', '3wN9TQkXZCJjlt01yqwPqO'),\n",
       " ('1124413005', '4firkXCAOW0wukrf3PVos6'),\n",
       " ('1124413005', '4Rp2SzWzRd6BcGqpL4BEG0'),\n",
       " ('1124413005', '3X9FuPpfrLJzAUdczeaHmu'),\n",
       " ('1124413005', '5Q0puKo2dpJeSmjV2wuECH'),\n",
       " ('1124413005', '6LGlfGwUQgLzC1183gWXRH'),\n",
       " ('1124413005', '6KzmuIPQXddRtVcYNpiVcG'),\n",
       " ('1124413005', '64a0XzAySw3oIkQXDMpMW3'),\n",
       " ('1124413005', '6avkRvRNun2CzcXzPfLCNj'),\n",
       " ('1124413005', '0SbdtS48ifqGpaXpprOWA0'),\n",
       " ('1124413005', '6SoEl65HGzuSbu8rnTczOF'),\n",
       " ('1124413005', '5auH3ImvLbyfESLm0ZgHjv'),\n",
       " ('1124413005', '0ZdaqNp5scKt5kaNnVbWb3'),\n",
       " ('1124413005', '1hH2UsALCX8vE8AGu3R1nP'),\n",
       " ('begolsu', '4wr0OcsVJoyUTsfot836Ko'),\n",
       " ('begolsu', '1luqlKEq4ylwAPo3RLIWTX'),\n",
       " ('begolsu', '4xo0FUM1Qggn4n4QnYeUp2'),\n",
       " ('begolsu', '43hb7b8Xy9DX0wXIT2UfRR'),\n",
       " ('begolsu', '0REnvtENWXj16whfORBUJF'),\n",
       " ('begolsu', '4eLf8MxRy5q6xS9x47GIEc'),\n",
       " ('begolsu', '7wPYdE94qp323DZcS0MtBC'),\n",
       " ('begolsu', '08AD6lrQhKtH72cNBO5v1M'),\n",
       " ('begolsu', '5rS058HcdQ6dp2GpVfCcv6'),\n",
       " ('begolsu', '1TIGcjwjwI6ISvmN1Mj0gz'),\n",
       " ('begolsu', '1hJ1HzKPfUOn0AwliKEkQU'),\n",
       " ('begolsu', '1RQONzuGMSy8e8ovWNPOdh'),\n",
       " ('begolsu', '1VAuOBkynI7oc86JnCi2qX'),\n",
       " ('begolsu', '5K1RAaiS7jojkIaIj3r1di'),\n",
       " ('begolsu', '3vV2DsH02HlDRyOoYJtaBU'),\n",
       " ('begolsu', '4lmwYbxVBwMvxZSP45yT3e'),\n",
       " ('begolsu', '17Yz7p5ErGMdbVr43coCxC'),\n",
       " ('begolsu', '0WT0xHF0qfhsKC5FtMi4vQ'),\n",
       " ('begolsu', '6fZAPy1UIm7ZDmezxmYW35'),\n",
       " ('begolsu', '0BAkzpLLd07CCMHvNdBwWb'),\n",
       " ('begolsu', '2oXaMmvZ1TvAzCaiTWTtZB'),\n",
       " ('begolsu', '3ztlc45rRNHgWlo3ssHkIu'),\n",
       " ('begolsu', '1woYzkmuTsWO7F6ywEGoTj'),\n",
       " ('begolsu', '0BWOE0lZEmGxMWUuIpQxbC'),\n",
       " ('begolsu', '1XHPfxcpBUu0hXLLS11bzs'),\n",
       " ('begolsu', '3Mo4As1K7r3lq4bf2m9Irk'),\n",
       " ('begolsu', '37i9dQZF1DX4aYNO8X5RpR'),\n",
       " ('begolsu', '37i9dQZF1E9FfdTsHTebGY')]"
      ]
     },
     "execution_count": 7,
     "metadata": {},
     "output_type": "execute_result"
    }
   ],
   "source": [
    "friends_id_playlist = []\n",
    "for key, value in data_dicc.items():\n",
    "    for id_pl in value['id']:\n",
    "        #dicc_friends[id_pl[0]] = id_pl[1]\n",
    "        #dicc_friends.update({id_pl[0]:id_pl[1]})\n",
    "        friends_id_playlist.append((key,id_pl)) #aquí accedemos a la ID de la Plist \n",
    "        # esto es lo que había: friends_id_playlist.append((id_pl[0],id_pl[1]))\n",
    "        \n",
    "friends_id_playlist #aquí está la variable NAME , ID_PLAYLIST"
   ]
  },
  {
   "cell_type": "code",
   "execution_count": 8,
   "metadata": {},
   "outputs": [],
   "source": [
    "x = [e[0] for e in friends_id_playlist]\n",
    "\n",
    "y = [e[1] for e in friends_id_playlist]\n",
    "\n",
    "dictio = {}\n",
    "\n",
    "def funcionamigos(useramigo, idplaylistamigo):\n",
    "    playlist_tracks = sp.user_playlist_tracks(useramigo,playlist_id=idplaylistamigo, limit= 3)    \n",
    "    #print(playlist_tracks['items'][0][\"track\"][\"name\"])\n",
    "    lista = []\n",
    "    for i in playlist_tracks['items']: \n",
    "        #lista.append(i['track']['name'])\n",
    "        lista.append(i[\"track\"][\"id\"])       \n",
    "        #tracksid = playlist_tracks['items'][0][\"track\"][\"id\"]\n",
    "        #tracksname = playlist_tracks['items'][0][\"track\"][\"name\"]\n",
    "        #tracksartist = playlist_tracks['items'][0][\"track\"]['album']['artists'][0]['name']\n",
    "        #identifier = (useramigo, tracksid, tracksartist, tracksname)\n",
    "        #lista.append(tracksid)\n",
    "    return lista"
   ]
  },
  {
   "cell_type": "code",
   "execution_count": 9,
   "metadata": {},
   "outputs": [
    {
     "ename": "KeyboardInterrupt",
     "evalue": "",
     "output_type": "error",
     "traceback": [
      "\u001b[0;31m---------------------------------------------------------------------------\u001b[0m",
      "\u001b[0;31mKeyboardInterrupt\u001b[0m                         Traceback (most recent call last)",
      "\u001b[0;32m<ipython-input-9-cd7a5829ed28>\u001b[0m in \u001b[0;36m<module>\u001b[0;34m\u001b[0m\n\u001b[1;32m      2\u001b[0m     \u001b[0;32mif\u001b[0m \u001b[0mx\u001b[0m\u001b[0;34m[\u001b[0m\u001b[0muser\u001b[0m\u001b[0;34m]\u001b[0m \u001b[0;32mnot\u001b[0m \u001b[0;32min\u001b[0m \u001b[0mdictio\u001b[0m\u001b[0;34m:\u001b[0m\u001b[0;34m\u001b[0m\u001b[0;34m\u001b[0m\u001b[0m\n\u001b[1;32m      3\u001b[0m         \u001b[0mdictio\u001b[0m\u001b[0;34m[\u001b[0m\u001b[0mx\u001b[0m\u001b[0;34m[\u001b[0m\u001b[0muser\u001b[0m\u001b[0;34m]\u001b[0m\u001b[0;34m]\u001b[0m \u001b[0;34m=\u001b[0m \u001b[0;34m[\u001b[0m\u001b[0;34m]\u001b[0m\u001b[0;34m\u001b[0m\u001b[0;34m\u001b[0m\u001b[0m\n\u001b[0;32m----> 4\u001b[0;31m     \u001b[0ml\u001b[0m \u001b[0;34m=\u001b[0m \u001b[0mfuncionamigos\u001b[0m\u001b[0;34m(\u001b[0m\u001b[0mx\u001b[0m\u001b[0;34m[\u001b[0m\u001b[0muser\u001b[0m\u001b[0;34m]\u001b[0m\u001b[0;34m,\u001b[0m \u001b[0my\u001b[0m\u001b[0;34m[\u001b[0m\u001b[0muser\u001b[0m\u001b[0;34m]\u001b[0m\u001b[0;34m)\u001b[0m\u001b[0;34m\u001b[0m\u001b[0;34m\u001b[0m\u001b[0m\n\u001b[0m\u001b[1;32m      5\u001b[0m     \u001b[0;32mfor\u001b[0m \u001b[0msongs\u001b[0m \u001b[0;32min\u001b[0m \u001b[0ml\u001b[0m\u001b[0;34m:\u001b[0m\u001b[0;34m\u001b[0m\u001b[0;34m\u001b[0m\u001b[0m\n\u001b[1;32m      6\u001b[0m         \u001b[0mdictio\u001b[0m\u001b[0;34m[\u001b[0m\u001b[0mx\u001b[0m\u001b[0;34m[\u001b[0m\u001b[0muser\u001b[0m\u001b[0;34m]\u001b[0m\u001b[0;34m]\u001b[0m\u001b[0;34m.\u001b[0m\u001b[0mappend\u001b[0m\u001b[0;34m(\u001b[0m\u001b[0msongs\u001b[0m\u001b[0;34m)\u001b[0m\u001b[0;34m\u001b[0m\u001b[0;34m\u001b[0m\u001b[0m\n",
      "\u001b[0;32m<ipython-input-8-02d403be457c>\u001b[0m in \u001b[0;36mfuncionamigos\u001b[0;34m(useramigo, idplaylistamigo)\u001b[0m\n\u001b[1;32m      6\u001b[0m \u001b[0;34m\u001b[0m\u001b[0m\n\u001b[1;32m      7\u001b[0m \u001b[0;32mdef\u001b[0m \u001b[0mfuncionamigos\u001b[0m\u001b[0;34m(\u001b[0m\u001b[0museramigo\u001b[0m\u001b[0;34m,\u001b[0m \u001b[0midplaylistamigo\u001b[0m\u001b[0;34m)\u001b[0m\u001b[0;34m:\u001b[0m\u001b[0;34m\u001b[0m\u001b[0;34m\u001b[0m\u001b[0m\n\u001b[0;32m----> 8\u001b[0;31m     \u001b[0mplaylist_tracks\u001b[0m \u001b[0;34m=\u001b[0m \u001b[0msp\u001b[0m\u001b[0;34m.\u001b[0m\u001b[0muser_playlist_tracks\u001b[0m\u001b[0;34m(\u001b[0m\u001b[0museramigo\u001b[0m\u001b[0;34m,\u001b[0m\u001b[0mplaylist_id\u001b[0m\u001b[0;34m=\u001b[0m\u001b[0midplaylistamigo\u001b[0m\u001b[0;34m,\u001b[0m \u001b[0mlimit\u001b[0m\u001b[0;34m=\u001b[0m \u001b[0;36m3\u001b[0m\u001b[0;34m)\u001b[0m\u001b[0;34m\u001b[0m\u001b[0;34m\u001b[0m\u001b[0m\n\u001b[0m\u001b[1;32m      9\u001b[0m     \u001b[0;31m#print(playlist_tracks['items'][0][\"track\"][\"name\"])\u001b[0m\u001b[0;34m\u001b[0m\u001b[0;34m\u001b[0m\u001b[0;34m\u001b[0m\u001b[0m\n\u001b[1;32m     10\u001b[0m     \u001b[0mlista\u001b[0m \u001b[0;34m=\u001b[0m \u001b[0;34m[\u001b[0m\u001b[0;34m]\u001b[0m\u001b[0;34m\u001b[0m\u001b[0;34m\u001b[0m\u001b[0m\n",
      "\u001b[0;32m~/.local/lib/python3.6/site-packages/spotipy/client.py\u001b[0m in \u001b[0;36muser_playlist_tracks\u001b[0;34m(self, user, playlist_id, fields, limit, offset, market)\u001b[0m\n\u001b[1;32m    393\u001b[0m         return self._get(\"users/%s/playlists/%s/tracks\" % (user, plid),\n\u001b[1;32m    394\u001b[0m                          \u001b[0mlimit\u001b[0m\u001b[0;34m=\u001b[0m\u001b[0mlimit\u001b[0m\u001b[0;34m,\u001b[0m \u001b[0moffset\u001b[0m\u001b[0;34m=\u001b[0m\u001b[0moffset\u001b[0m\u001b[0;34m,\u001b[0m \u001b[0mfields\u001b[0m\u001b[0;34m=\u001b[0m\u001b[0mfields\u001b[0m\u001b[0;34m,\u001b[0m\u001b[0;34m\u001b[0m\u001b[0;34m\u001b[0m\u001b[0m\n\u001b[0;32m--> 395\u001b[0;31m                          market=market)\n\u001b[0m\u001b[1;32m    396\u001b[0m \u001b[0;34m\u001b[0m\u001b[0m\n\u001b[1;32m    397\u001b[0m     \u001b[0;32mdef\u001b[0m \u001b[0muser_playlist_create\u001b[0m\u001b[0;34m(\u001b[0m\u001b[0mself\u001b[0m\u001b[0;34m,\u001b[0m \u001b[0muser\u001b[0m\u001b[0;34m,\u001b[0m \u001b[0mname\u001b[0m\u001b[0;34m,\u001b[0m \u001b[0mpublic\u001b[0m\u001b[0;34m=\u001b[0m\u001b[0;32mTrue\u001b[0m\u001b[0;34m)\u001b[0m\u001b[0;34m:\u001b[0m\u001b[0;34m\u001b[0m\u001b[0;34m\u001b[0m\u001b[0m\n",
      "\u001b[0;32m~/.local/lib/python3.6/site-packages/spotipy/client.py\u001b[0m in \u001b[0;36m_get\u001b[0;34m(self, url, args, payload, **kwargs)\u001b[0m\n\u001b[1;32m    144\u001b[0m         \u001b[0;32mwhile\u001b[0m \u001b[0mretries\u001b[0m \u001b[0;34m>\u001b[0m \u001b[0;36m0\u001b[0m\u001b[0;34m:\u001b[0m\u001b[0;34m\u001b[0m\u001b[0;34m\u001b[0m\u001b[0m\n\u001b[1;32m    145\u001b[0m             \u001b[0;32mtry\u001b[0m\u001b[0;34m:\u001b[0m\u001b[0;34m\u001b[0m\u001b[0;34m\u001b[0m\u001b[0m\n\u001b[0;32m--> 146\u001b[0;31m                 \u001b[0;32mreturn\u001b[0m \u001b[0mself\u001b[0m\u001b[0;34m.\u001b[0m\u001b[0m_internal_call\u001b[0m\u001b[0;34m(\u001b[0m\u001b[0;34m'GET'\u001b[0m\u001b[0;34m,\u001b[0m \u001b[0murl\u001b[0m\u001b[0;34m,\u001b[0m \u001b[0mpayload\u001b[0m\u001b[0;34m,\u001b[0m \u001b[0mkwargs\u001b[0m\u001b[0;34m)\u001b[0m\u001b[0;34m\u001b[0m\u001b[0;34m\u001b[0m\u001b[0m\n\u001b[0m\u001b[1;32m    147\u001b[0m             \u001b[0;32mexcept\u001b[0m \u001b[0mSpotifyException\u001b[0m \u001b[0;32mas\u001b[0m \u001b[0me\u001b[0m\u001b[0;34m:\u001b[0m\u001b[0;34m\u001b[0m\u001b[0;34m\u001b[0m\u001b[0m\n\u001b[1;32m    148\u001b[0m                 \u001b[0mretries\u001b[0m \u001b[0;34m-=\u001b[0m \u001b[0;36m1\u001b[0m\u001b[0;34m\u001b[0m\u001b[0;34m\u001b[0m\u001b[0m\n",
      "\u001b[0;32m~/.local/lib/python3.6/site-packages/spotipy/client.py\u001b[0m in \u001b[0;36m_internal_call\u001b[0;34m(self, method, url, payload, params)\u001b[0m\n\u001b[1;32m    106\u001b[0m         \u001b[0;32mif\u001b[0m \u001b[0mself\u001b[0m\u001b[0;34m.\u001b[0m\u001b[0mtrace_out\u001b[0m\u001b[0;34m:\u001b[0m\u001b[0;34m\u001b[0m\u001b[0;34m\u001b[0m\u001b[0m\n\u001b[1;32m    107\u001b[0m             \u001b[0mprint\u001b[0m\u001b[0;34m(\u001b[0m\u001b[0murl\u001b[0m\u001b[0;34m)\u001b[0m\u001b[0;34m\u001b[0m\u001b[0;34m\u001b[0m\u001b[0m\n\u001b[0;32m--> 108\u001b[0;31m         \u001b[0mr\u001b[0m \u001b[0;34m=\u001b[0m \u001b[0mself\u001b[0m\u001b[0;34m.\u001b[0m\u001b[0m_session\u001b[0m\u001b[0;34m.\u001b[0m\u001b[0mrequest\u001b[0m\u001b[0;34m(\u001b[0m\u001b[0mmethod\u001b[0m\u001b[0;34m,\u001b[0m \u001b[0murl\u001b[0m\u001b[0;34m,\u001b[0m \u001b[0mheaders\u001b[0m\u001b[0;34m=\u001b[0m\u001b[0mheaders\u001b[0m\u001b[0;34m,\u001b[0m \u001b[0mproxies\u001b[0m\u001b[0;34m=\u001b[0m\u001b[0mself\u001b[0m\u001b[0;34m.\u001b[0m\u001b[0mproxies\u001b[0m\u001b[0;34m,\u001b[0m \u001b[0;34m**\u001b[0m\u001b[0margs\u001b[0m\u001b[0;34m)\u001b[0m\u001b[0;34m\u001b[0m\u001b[0;34m\u001b[0m\u001b[0m\n\u001b[0m\u001b[1;32m    109\u001b[0m \u001b[0;34m\u001b[0m\u001b[0m\n\u001b[1;32m    110\u001b[0m         \u001b[0;32mif\u001b[0m \u001b[0mself\u001b[0m\u001b[0;34m.\u001b[0m\u001b[0mtrace\u001b[0m\u001b[0;34m:\u001b[0m  \u001b[0;31m# pragma: no cover\u001b[0m\u001b[0;34m\u001b[0m\u001b[0;34m\u001b[0m\u001b[0m\n",
      "\u001b[0;32m/usr/lib/python3/dist-packages/requests/sessions.py\u001b[0m in \u001b[0;36mrequest\u001b[0;34m(self, method, url, params, data, headers, cookies, files, auth, timeout, allow_redirects, proxies, hooks, stream, verify, cert, json)\u001b[0m\n\u001b[1;32m    518\u001b[0m         }\n\u001b[1;32m    519\u001b[0m         \u001b[0msend_kwargs\u001b[0m\u001b[0;34m.\u001b[0m\u001b[0mupdate\u001b[0m\u001b[0;34m(\u001b[0m\u001b[0msettings\u001b[0m\u001b[0;34m)\u001b[0m\u001b[0;34m\u001b[0m\u001b[0;34m\u001b[0m\u001b[0m\n\u001b[0;32m--> 520\u001b[0;31m         \u001b[0mresp\u001b[0m \u001b[0;34m=\u001b[0m \u001b[0mself\u001b[0m\u001b[0;34m.\u001b[0m\u001b[0msend\u001b[0m\u001b[0;34m(\u001b[0m\u001b[0mprep\u001b[0m\u001b[0;34m,\u001b[0m \u001b[0;34m**\u001b[0m\u001b[0msend_kwargs\u001b[0m\u001b[0;34m)\u001b[0m\u001b[0;34m\u001b[0m\u001b[0;34m\u001b[0m\u001b[0m\n\u001b[0m\u001b[1;32m    521\u001b[0m \u001b[0;34m\u001b[0m\u001b[0m\n\u001b[1;32m    522\u001b[0m         \u001b[0;32mreturn\u001b[0m \u001b[0mresp\u001b[0m\u001b[0;34m\u001b[0m\u001b[0;34m\u001b[0m\u001b[0m\n",
      "\u001b[0;32m/usr/lib/python3/dist-packages/requests/sessions.py\u001b[0m in \u001b[0;36msend\u001b[0;34m(self, request, **kwargs)\u001b[0m\n\u001b[1;32m    628\u001b[0m \u001b[0;34m\u001b[0m\u001b[0m\n\u001b[1;32m    629\u001b[0m         \u001b[0;31m# Send the request\u001b[0m\u001b[0;34m\u001b[0m\u001b[0;34m\u001b[0m\u001b[0;34m\u001b[0m\u001b[0m\n\u001b[0;32m--> 630\u001b[0;31m         \u001b[0mr\u001b[0m \u001b[0;34m=\u001b[0m \u001b[0madapter\u001b[0m\u001b[0;34m.\u001b[0m\u001b[0msend\u001b[0m\u001b[0;34m(\u001b[0m\u001b[0mrequest\u001b[0m\u001b[0;34m,\u001b[0m \u001b[0;34m**\u001b[0m\u001b[0mkwargs\u001b[0m\u001b[0;34m)\u001b[0m\u001b[0;34m\u001b[0m\u001b[0;34m\u001b[0m\u001b[0m\n\u001b[0m\u001b[1;32m    631\u001b[0m \u001b[0;34m\u001b[0m\u001b[0m\n\u001b[1;32m    632\u001b[0m         \u001b[0;31m# Total elapsed time of the request (approximately)\u001b[0m\u001b[0;34m\u001b[0m\u001b[0;34m\u001b[0m\u001b[0;34m\u001b[0m\u001b[0m\n",
      "\u001b[0;32m/usr/lib/python3/dist-packages/requests/adapters.py\u001b[0m in \u001b[0;36msend\u001b[0;34m(self, request, stream, timeout, verify, cert, proxies)\u001b[0m\n\u001b[1;32m    438\u001b[0m                     \u001b[0mdecode_content\u001b[0m\u001b[0;34m=\u001b[0m\u001b[0;32mFalse\u001b[0m\u001b[0;34m,\u001b[0m\u001b[0;34m\u001b[0m\u001b[0;34m\u001b[0m\u001b[0m\n\u001b[1;32m    439\u001b[0m                     \u001b[0mretries\u001b[0m\u001b[0;34m=\u001b[0m\u001b[0mself\u001b[0m\u001b[0;34m.\u001b[0m\u001b[0mmax_retries\u001b[0m\u001b[0;34m,\u001b[0m\u001b[0;34m\u001b[0m\u001b[0;34m\u001b[0m\u001b[0m\n\u001b[0;32m--> 440\u001b[0;31m                     \u001b[0mtimeout\u001b[0m\u001b[0;34m=\u001b[0m\u001b[0mtimeout\u001b[0m\u001b[0;34m\u001b[0m\u001b[0;34m\u001b[0m\u001b[0m\n\u001b[0m\u001b[1;32m    441\u001b[0m                 )\n\u001b[1;32m    442\u001b[0m \u001b[0;34m\u001b[0m\u001b[0m\n",
      "\u001b[0;32m/usr/lib/python3/dist-packages/urllib3/connectionpool.py\u001b[0m in \u001b[0;36murlopen\u001b[0;34m(self, method, url, body, headers, retries, redirect, assert_same_host, timeout, pool_timeout, release_conn, chunked, body_pos, **response_kw)\u001b[0m\n\u001b[1;32m    599\u001b[0m                                                   \u001b[0mtimeout\u001b[0m\u001b[0;34m=\u001b[0m\u001b[0mtimeout_obj\u001b[0m\u001b[0;34m,\u001b[0m\u001b[0;34m\u001b[0m\u001b[0;34m\u001b[0m\u001b[0m\n\u001b[1;32m    600\u001b[0m                                                   \u001b[0mbody\u001b[0m\u001b[0;34m=\u001b[0m\u001b[0mbody\u001b[0m\u001b[0;34m,\u001b[0m \u001b[0mheaders\u001b[0m\u001b[0;34m=\u001b[0m\u001b[0mheaders\u001b[0m\u001b[0;34m,\u001b[0m\u001b[0;34m\u001b[0m\u001b[0;34m\u001b[0m\u001b[0m\n\u001b[0;32m--> 601\u001b[0;31m                                                   chunked=chunked)\n\u001b[0m\u001b[1;32m    602\u001b[0m \u001b[0;34m\u001b[0m\u001b[0m\n\u001b[1;32m    603\u001b[0m             \u001b[0;31m# If we're going to release the connection in ``finally:``, then\u001b[0m\u001b[0;34m\u001b[0m\u001b[0;34m\u001b[0m\u001b[0;34m\u001b[0m\u001b[0m\n",
      "\u001b[0;32m/usr/lib/python3/dist-packages/urllib3/connectionpool.py\u001b[0m in \u001b[0;36m_make_request\u001b[0;34m(self, conn, method, url, timeout, chunked, **httplib_request_kw)\u001b[0m\n\u001b[1;32m    344\u001b[0m         \u001b[0;31m# Trigger any extra validation we need to do.\u001b[0m\u001b[0;34m\u001b[0m\u001b[0;34m\u001b[0m\u001b[0;34m\u001b[0m\u001b[0m\n\u001b[1;32m    345\u001b[0m         \u001b[0;32mtry\u001b[0m\u001b[0;34m:\u001b[0m\u001b[0;34m\u001b[0m\u001b[0;34m\u001b[0m\u001b[0m\n\u001b[0;32m--> 346\u001b[0;31m             \u001b[0mself\u001b[0m\u001b[0;34m.\u001b[0m\u001b[0m_validate_conn\u001b[0m\u001b[0;34m(\u001b[0m\u001b[0mconn\u001b[0m\u001b[0;34m)\u001b[0m\u001b[0;34m\u001b[0m\u001b[0;34m\u001b[0m\u001b[0m\n\u001b[0m\u001b[1;32m    347\u001b[0m         \u001b[0;32mexcept\u001b[0m \u001b[0;34m(\u001b[0m\u001b[0mSocketTimeout\u001b[0m\u001b[0;34m,\u001b[0m \u001b[0mBaseSSLError\u001b[0m\u001b[0;34m)\u001b[0m \u001b[0;32mas\u001b[0m \u001b[0me\u001b[0m\u001b[0;34m:\u001b[0m\u001b[0;34m\u001b[0m\u001b[0;34m\u001b[0m\u001b[0m\n\u001b[1;32m    348\u001b[0m             \u001b[0;31m# Py2 raises this as a BaseSSLError, Py3 raises it as socket timeout.\u001b[0m\u001b[0;34m\u001b[0m\u001b[0;34m\u001b[0m\u001b[0;34m\u001b[0m\u001b[0m\n",
      "\u001b[0;32m/usr/lib/python3/dist-packages/urllib3/connectionpool.py\u001b[0m in \u001b[0;36m_validate_conn\u001b[0;34m(self, conn)\u001b[0m\n\u001b[1;32m    850\u001b[0m         \u001b[0;31m# Force connect early to allow us to validate the connection.\u001b[0m\u001b[0;34m\u001b[0m\u001b[0;34m\u001b[0m\u001b[0;34m\u001b[0m\u001b[0m\n\u001b[1;32m    851\u001b[0m         \u001b[0;32mif\u001b[0m \u001b[0;32mnot\u001b[0m \u001b[0mgetattr\u001b[0m\u001b[0;34m(\u001b[0m\u001b[0mconn\u001b[0m\u001b[0;34m,\u001b[0m \u001b[0;34m'sock'\u001b[0m\u001b[0;34m,\u001b[0m \u001b[0;32mNone\u001b[0m\u001b[0;34m)\u001b[0m\u001b[0;34m:\u001b[0m  \u001b[0;31m# AppEngine might not have  `.sock`\u001b[0m\u001b[0;34m\u001b[0m\u001b[0;34m\u001b[0m\u001b[0m\n\u001b[0;32m--> 852\u001b[0;31m             \u001b[0mconn\u001b[0m\u001b[0;34m.\u001b[0m\u001b[0mconnect\u001b[0m\u001b[0;34m(\u001b[0m\u001b[0;34m)\u001b[0m\u001b[0;34m\u001b[0m\u001b[0;34m\u001b[0m\u001b[0m\n\u001b[0m\u001b[1;32m    853\u001b[0m \u001b[0;34m\u001b[0m\u001b[0m\n\u001b[1;32m    854\u001b[0m         \u001b[0;32mif\u001b[0m \u001b[0;32mnot\u001b[0m \u001b[0mconn\u001b[0m\u001b[0;34m.\u001b[0m\u001b[0mis_verified\u001b[0m\u001b[0;34m:\u001b[0m\u001b[0;34m\u001b[0m\u001b[0;34m\u001b[0m\u001b[0m\n",
      "\u001b[0;32m/usr/lib/python3/dist-packages/urllib3/connection.py\u001b[0m in \u001b[0;36mconnect\u001b[0;34m(self)\u001b[0m\n\u001b[1;32m    324\u001b[0m             \u001b[0mca_cert_dir\u001b[0m\u001b[0;34m=\u001b[0m\u001b[0mself\u001b[0m\u001b[0;34m.\u001b[0m\u001b[0mca_cert_dir\u001b[0m\u001b[0;34m,\u001b[0m\u001b[0;34m\u001b[0m\u001b[0;34m\u001b[0m\u001b[0m\n\u001b[1;32m    325\u001b[0m             \u001b[0mserver_hostname\u001b[0m\u001b[0;34m=\u001b[0m\u001b[0mhostname\u001b[0m\u001b[0;34m,\u001b[0m\u001b[0;34m\u001b[0m\u001b[0;34m\u001b[0m\u001b[0m\n\u001b[0;32m--> 326\u001b[0;31m             ssl_context=context)\n\u001b[0m\u001b[1;32m    327\u001b[0m \u001b[0;34m\u001b[0m\u001b[0m\n\u001b[1;32m    328\u001b[0m         \u001b[0;32mif\u001b[0m \u001b[0mself\u001b[0m\u001b[0;34m.\u001b[0m\u001b[0massert_fingerprint\u001b[0m\u001b[0;34m:\u001b[0m\u001b[0;34m\u001b[0m\u001b[0;34m\u001b[0m\u001b[0m\n",
      "\u001b[0;32m/usr/lib/python3/dist-packages/urllib3/util/ssl_.py\u001b[0m in \u001b[0;36mssl_wrap_socket\u001b[0;34m(sock, keyfile, certfile, cert_reqs, ca_certs, server_hostname, ssl_version, ciphers, ssl_context, ca_cert_dir)\u001b[0m\n\u001b[1;32m    330\u001b[0m         \u001b[0mcontext\u001b[0m\u001b[0;34m.\u001b[0m\u001b[0mload_cert_chain\u001b[0m\u001b[0;34m(\u001b[0m\u001b[0mcertfile\u001b[0m\u001b[0;34m,\u001b[0m \u001b[0mkeyfile\u001b[0m\u001b[0;34m)\u001b[0m\u001b[0;34m\u001b[0m\u001b[0;34m\u001b[0m\u001b[0m\n\u001b[1;32m    331\u001b[0m     \u001b[0;32mif\u001b[0m \u001b[0mHAS_SNI\u001b[0m\u001b[0;34m:\u001b[0m  \u001b[0;31m# Platform-specific: OpenSSL with enabled SNI\u001b[0m\u001b[0;34m\u001b[0m\u001b[0;34m\u001b[0m\u001b[0m\n\u001b[0;32m--> 332\u001b[0;31m         \u001b[0;32mreturn\u001b[0m \u001b[0mcontext\u001b[0m\u001b[0;34m.\u001b[0m\u001b[0mwrap_socket\u001b[0m\u001b[0;34m(\u001b[0m\u001b[0msock\u001b[0m\u001b[0;34m,\u001b[0m \u001b[0mserver_hostname\u001b[0m\u001b[0;34m=\u001b[0m\u001b[0mserver_hostname\u001b[0m\u001b[0;34m)\u001b[0m\u001b[0;34m\u001b[0m\u001b[0;34m\u001b[0m\u001b[0m\n\u001b[0m\u001b[1;32m    333\u001b[0m \u001b[0;34m\u001b[0m\u001b[0m\n\u001b[1;32m    334\u001b[0m     warnings.warn(\n",
      "\u001b[0;32m/usr/lib/python3.6/ssl.py\u001b[0m in \u001b[0;36mwrap_socket\u001b[0;34m(self, sock, server_side, do_handshake_on_connect, suppress_ragged_eofs, server_hostname, session)\u001b[0m\n\u001b[1;32m    405\u001b[0m                          \u001b[0msuppress_ragged_eofs\u001b[0m\u001b[0;34m=\u001b[0m\u001b[0msuppress_ragged_eofs\u001b[0m\u001b[0;34m,\u001b[0m\u001b[0;34m\u001b[0m\u001b[0;34m\u001b[0m\u001b[0m\n\u001b[1;32m    406\u001b[0m                          \u001b[0mserver_hostname\u001b[0m\u001b[0;34m=\u001b[0m\u001b[0mserver_hostname\u001b[0m\u001b[0;34m,\u001b[0m\u001b[0;34m\u001b[0m\u001b[0;34m\u001b[0m\u001b[0m\n\u001b[0;32m--> 407\u001b[0;31m                          _context=self, _session=session)\n\u001b[0m\u001b[1;32m    408\u001b[0m \u001b[0;34m\u001b[0m\u001b[0m\n\u001b[1;32m    409\u001b[0m     def wrap_bio(self, incoming, outgoing, server_side=False,\n",
      "\u001b[0;32m/usr/lib/python3.6/ssl.py\u001b[0m in \u001b[0;36m__init__\u001b[0;34m(self, sock, keyfile, certfile, server_side, cert_reqs, ssl_version, ca_certs, do_handshake_on_connect, family, type, proto, fileno, suppress_ragged_eofs, npn_protocols, ciphers, server_hostname, _context, _session)\u001b[0m\n\u001b[1;32m    815\u001b[0m                         \u001b[0;31m# non-blocking\u001b[0m\u001b[0;34m\u001b[0m\u001b[0;34m\u001b[0m\u001b[0;34m\u001b[0m\u001b[0m\n\u001b[1;32m    816\u001b[0m                         \u001b[0;32mraise\u001b[0m \u001b[0mValueError\u001b[0m\u001b[0;34m(\u001b[0m\u001b[0;34m\"do_handshake_on_connect should not be specified for non-blocking sockets\"\u001b[0m\u001b[0;34m)\u001b[0m\u001b[0;34m\u001b[0m\u001b[0;34m\u001b[0m\u001b[0m\n\u001b[0;32m--> 817\u001b[0;31m                     \u001b[0mself\u001b[0m\u001b[0;34m.\u001b[0m\u001b[0mdo_handshake\u001b[0m\u001b[0;34m(\u001b[0m\u001b[0;34m)\u001b[0m\u001b[0;34m\u001b[0m\u001b[0;34m\u001b[0m\u001b[0m\n\u001b[0m\u001b[1;32m    818\u001b[0m \u001b[0;34m\u001b[0m\u001b[0m\n\u001b[1;32m    819\u001b[0m             \u001b[0;32mexcept\u001b[0m \u001b[0;34m(\u001b[0m\u001b[0mOSError\u001b[0m\u001b[0;34m,\u001b[0m \u001b[0mValueError\u001b[0m\u001b[0;34m)\u001b[0m\u001b[0;34m:\u001b[0m\u001b[0;34m\u001b[0m\u001b[0;34m\u001b[0m\u001b[0m\n",
      "\u001b[0;32m/usr/lib/python3.6/ssl.py\u001b[0m in \u001b[0;36mdo_handshake\u001b[0;34m(self, block)\u001b[0m\n\u001b[1;32m   1075\u001b[0m             \u001b[0;32mif\u001b[0m \u001b[0mtimeout\u001b[0m \u001b[0;34m==\u001b[0m \u001b[0;36m0.0\u001b[0m \u001b[0;32mand\u001b[0m \u001b[0mblock\u001b[0m\u001b[0;34m:\u001b[0m\u001b[0;34m\u001b[0m\u001b[0;34m\u001b[0m\u001b[0m\n\u001b[1;32m   1076\u001b[0m                 \u001b[0mself\u001b[0m\u001b[0;34m.\u001b[0m\u001b[0msettimeout\u001b[0m\u001b[0;34m(\u001b[0m\u001b[0;32mNone\u001b[0m\u001b[0;34m)\u001b[0m\u001b[0;34m\u001b[0m\u001b[0;34m\u001b[0m\u001b[0m\n\u001b[0;32m-> 1077\u001b[0;31m             \u001b[0mself\u001b[0m\u001b[0;34m.\u001b[0m\u001b[0m_sslobj\u001b[0m\u001b[0;34m.\u001b[0m\u001b[0mdo_handshake\u001b[0m\u001b[0;34m(\u001b[0m\u001b[0;34m)\u001b[0m\u001b[0;34m\u001b[0m\u001b[0;34m\u001b[0m\u001b[0m\n\u001b[0m\u001b[1;32m   1078\u001b[0m         \u001b[0;32mfinally\u001b[0m\u001b[0;34m:\u001b[0m\u001b[0;34m\u001b[0m\u001b[0;34m\u001b[0m\u001b[0m\n\u001b[1;32m   1079\u001b[0m             \u001b[0mself\u001b[0m\u001b[0;34m.\u001b[0m\u001b[0msettimeout\u001b[0m\u001b[0;34m(\u001b[0m\u001b[0mtimeout\u001b[0m\u001b[0;34m)\u001b[0m\u001b[0;34m\u001b[0m\u001b[0;34m\u001b[0m\u001b[0m\n",
      "\u001b[0;32m/usr/lib/python3.6/ssl.py\u001b[0m in \u001b[0;36mdo_handshake\u001b[0;34m(self)\u001b[0m\n\u001b[1;32m    687\u001b[0m     \u001b[0;32mdef\u001b[0m \u001b[0mdo_handshake\u001b[0m\u001b[0;34m(\u001b[0m\u001b[0mself\u001b[0m\u001b[0;34m)\u001b[0m\u001b[0;34m:\u001b[0m\u001b[0;34m\u001b[0m\u001b[0;34m\u001b[0m\u001b[0m\n\u001b[1;32m    688\u001b[0m         \u001b[0;34m\"\"\"Start the SSL/TLS handshake.\"\"\"\u001b[0m\u001b[0;34m\u001b[0m\u001b[0;34m\u001b[0m\u001b[0m\n\u001b[0;32m--> 689\u001b[0;31m         \u001b[0mself\u001b[0m\u001b[0;34m.\u001b[0m\u001b[0m_sslobj\u001b[0m\u001b[0;34m.\u001b[0m\u001b[0mdo_handshake\u001b[0m\u001b[0;34m(\u001b[0m\u001b[0;34m)\u001b[0m\u001b[0;34m\u001b[0m\u001b[0;34m\u001b[0m\u001b[0m\n\u001b[0m\u001b[1;32m    690\u001b[0m         \u001b[0;32mif\u001b[0m \u001b[0mself\u001b[0m\u001b[0;34m.\u001b[0m\u001b[0mcontext\u001b[0m\u001b[0;34m.\u001b[0m\u001b[0mcheck_hostname\u001b[0m\u001b[0;34m:\u001b[0m\u001b[0;34m\u001b[0m\u001b[0;34m\u001b[0m\u001b[0m\n\u001b[1;32m    691\u001b[0m             \u001b[0;32mif\u001b[0m \u001b[0;32mnot\u001b[0m \u001b[0mself\u001b[0m\u001b[0;34m.\u001b[0m\u001b[0mserver_hostname\u001b[0m\u001b[0;34m:\u001b[0m\u001b[0;34m\u001b[0m\u001b[0;34m\u001b[0m\u001b[0m\n",
      "\u001b[0;31mKeyboardInterrupt\u001b[0m: "
     ]
    }
   ],
   "source": [
    "for user in range(len(x)-1):\n",
    "    if x[user] not in dictio:\n",
    "        dictio[x[user]] = []\n",
    "    l = funcionamigos(x[user], y[user])\n",
    "    for songs in l:\n",
    "        dictio[x[user]].append(songs)"
   ]
  },
  {
   "cell_type": "code",
   "execution_count": null,
   "metadata": {},
   "outputs": [],
   "source": [
    "import pandas as pd\n",
    "df = pd.DataFrame(list(dictio.items()))"
   ]
  },
  {
   "cell_type": "markdown",
   "metadata": {},
   "source": []
  },
  {
   "cell_type": "code",
   "execution_count": null,
   "metadata": {},
   "outputs": [],
   "source": [
    "df.columns = ['users', 'canciones']\n",
    "df"
   ]
  },
  {
   "cell_type": "code",
   "execution_count": null,
   "metadata": {},
   "outputs": [],
   "source": [
    "songs = [song for row in df[\"canciones\"] for song in row]\n",
    "#de aquí he eliminado el SET()\n",
    "\n",
    "len(songs)"
   ]
  },
  {
   "cell_type": "code",
   "execution_count": null,
   "metadata": {
    "scrolled": true
   },
   "outputs": [],
   "source": [
    "for song in songs:\n",
    "    df[song] = 0\n",
    "    \n",
    "for song in songs:\n",
    "    canciones_count = []\n",
    "    for _, row in df.iterrows():\n",
    "        canciones_count.append(row[\"canciones\"].count(song))\n",
    "    df[song] = canciones_count\n",
    "    \n",
    "df.head()"
   ]
  },
  {
   "cell_type": "code",
   "execution_count": null,
   "metadata": {},
   "outputs": [],
   "source": [
    "df.shape"
   ]
  },
  {
   "cell_type": "code",
   "execution_count": null,
   "metadata": {},
   "outputs": [],
   "source": [
    "df = df.drop(columns=['canciones'])"
   ]
  },
  {
   "cell_type": "code",
   "execution_count": null,
   "metadata": {},
   "outputs": [],
   "source": [
    "df = df.set_index('users')\n"
   ]
  },
  {
   "cell_type": "code",
   "execution_count": null,
   "metadata": {},
   "outputs": [],
   "source": [
    "df"
   ]
  },
  {
   "cell_type": "code",
   "execution_count": null,
   "metadata": {},
   "outputs": [],
   "source": [
    "#creating a customer matrix\n",
    "from scipy.spatial.distance import pdist, squareform\n",
    "\n",
    "matrix1 = pdist(df, 'euclidean')\n",
    "#print(matrix1)\n",
    "m_matrix = squareform(matrix1)\n",
    "#display(m_matrix)\n",
    "\n",
    "matrix = pd.DataFrame(1/(1+m_matrix),index=df.index, columns=df.index)\n",
    "display(matrix)"
   ]
  },
  {
   "cell_type": "code",
   "execution_count": null,
   "metadata": {},
   "outputs": [],
   "source": [
    "matrix.sort_values('users', ascending=True)"
   ]
  },
  {
   "cell_type": "code",
   "execution_count": null,
   "metadata": {},
   "outputs": [],
   "source": [
    "listener = 'begolsu'\n",
    "top_matrix = matrix[listener].sort_values(ascending=False)[1:]\n",
    "c_elem = top_matrix.head(1)\n",
    "amigo_afin = list(c_elem.index)\n",
    "amigo_afin"
   ]
  },
  {
   "cell_type": "code",
   "execution_count": null,
   "metadata": {},
   "outputs": [],
   "source": [
    "#creo un SET de canciones del usuario más afin\n",
    "\n",
    "togetherplaylist = []\n",
    "\n",
    "for usuarioelegido in amigo_afin:\n",
    "    togetherplaylist.append(dictio[usuarioelegido])\n",
    "    \n",
    "togetherplaylist2 = [num for elem in togetherplaylist for num in elem]\n",
    "\n",
    "print(togetherplaylist2)"
   ]
  },
  {
   "cell_type": "code",
   "execution_count": null,
   "metadata": {},
   "outputs": [],
   "source": [
    "listanovedadesusuario = []\n",
    "for elem in togetherplaylist2:\n",
    "    if elem not in dictio[listener]:\n",
    "        listanovedadesusuario.append(elem)"
   ]
  },
  {
   "cell_type": "code",
   "execution_count": null,
   "metadata": {},
   "outputs": [],
   "source": [
    "listanovedadesusuario"
   ]
  },
  {
   "cell_type": "code",
   "execution_count": null,
   "metadata": {},
   "outputs": [],
   "source": [
    "#eliminando nulos de la lista\n",
    "listanovedadesusuario = [x for x in listanovedadesusuario if x is not None]"
   ]
  },
  {
   "cell_type": "code",
   "execution_count": null,
   "metadata": {},
   "outputs": [],
   "source": [
    "listanovedadesusuario"
   ]
  },
  {
   "cell_type": "code",
   "execution_count": null,
   "metadata": {},
   "outputs": [],
   "source": [
    "topReco = listanovedadesusuario[:500]\n",
    "\n",
    "plTop = []\n",
    "for e in topReco: \n",
    "    x = sp.track(e)['popularity']\n",
    "    plTop.append((e,x))\n"
   ]
  },
  {
   "cell_type": "code",
   "execution_count": null,
   "metadata": {},
   "outputs": [],
   "source": [
    "plTop = sorted(plTop, key = lambda x: -x[1])\n",
    "plTop = plTop[:20]"
   ]
  },
  {
   "cell_type": "code",
   "execution_count": null,
   "metadata": {},
   "outputs": [],
   "source": [
    "plTop"
   ]
  },
  {
   "cell_type": "code",
   "execution_count": null,
   "metadata": {},
   "outputs": [],
   "source": [
    "lst_def = []\n",
    "for e in plTop: \n",
    "    x = sp.track(e[0])['name']\n",
    "    lst_def.append(x)\n",
    "print(lst_def)"
   ]
  }
 ],
 "metadata": {
  "kernelspec": {
   "display_name": "Python 3",
   "language": "python",
   "name": "python3"
  },
  "language_info": {
   "codemirror_mode": {
    "name": "ipython",
    "version": 3
   },
   "file_extension": ".py",
   "mimetype": "text/x-python",
   "name": "python",
   "nbconvert_exporter": "python",
   "pygments_lexer": "ipython3",
   "version": "3.6.8"
  }
 },
 "nbformat": 4,
 "nbformat_minor": 2
}
